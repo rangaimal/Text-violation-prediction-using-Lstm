{
 "cells": [
  {
   "cell_type": "code",
   "execution_count": 18,
   "metadata": {},
   "outputs": [],
   "source": [
    "import pandas as pd\n",
    "import numpy as np\n",
    "from nltk.tokenize import word_tokenize\n",
    "from nltk.corpus import stopwords\n",
    "from nltk.stem import WordNetLemmatizer\n",
    "from sklearn.feature_extraction.text import TfidfVectorizer\n",
    "from sklearn import model_selection, naive_bayes, svm\n",
    "from sklearn.metrics import accuracy_score,precision_score, recall_score,f1_score, mean_squared_error, mean_absolute_error,roc_auc_score,roc_curve\n",
    "import re\n",
    "from textblob import TextBlob\n",
    "import matplotlib.pyplot as plt"
   ]
  },
  {
   "cell_type": "code",
   "execution_count": 19,
   "metadata": {},
   "outputs": [],
   "source": [
    "tweetsTest = pd.read_excel(r'C:/Users/Acer/Desktop/Text violation detection/Dataset/cartoonConvoTesting.xlsx',index_col=0)\n",
    "tweetsTrain = pd.read_excel(r'C:/Users/Acer/Desktop/Text violation detection/Dataset/cartoonConvoTraining.xlsx',index_col=0)"
   ]
  },
  {
   "cell_type": "code",
   "execution_count": 20,
   "metadata": {},
   "outputs": [
    {
     "data": {
      "text/html": [
       "<div>\n",
       "<style scoped>\n",
       "    .dataframe tbody tr th:only-of-type {\n",
       "        vertical-align: middle;\n",
       "    }\n",
       "\n",
       "    .dataframe tbody tr th {\n",
       "        vertical-align: top;\n",
       "    }\n",
       "\n",
       "    .dataframe thead th {\n",
       "        text-align: right;\n",
       "    }\n",
       "</style>\n",
       "<table border=\"1\" class=\"dataframe\">\n",
       "  <thead>\n",
       "    <tr style=\"text-align: right;\">\n",
       "      <th></th>\n",
       "      <th>Phrase</th>\n",
       "      <th>IsHateSpeech</th>\n",
       "      <th>Sentiment</th>\n",
       "    </tr>\n",
       "    <tr>\n",
       "      <th>PhraseNo</th>\n",
       "      <th></th>\n",
       "      <th></th>\n",
       "      <th></th>\n",
       "    </tr>\n",
       "  </thead>\n",
       "  <tbody>\n",
       "    <tr>\n",
       "      <th>1</th>\n",
       "      <td>Yes, you! Baboon, baboon, baboon, baboon!</td>\n",
       "      <td>YES</td>\n",
       "      <td>1</td>\n",
       "    </tr>\n",
       "    <tr>\n",
       "      <th>2</th>\n",
       "      <td>Did you hear that, Marge? She called me a babo...</td>\n",
       "      <td>YES</td>\n",
       "      <td>1</td>\n",
       "    </tr>\n",
       "    <tr>\n",
       "      <th>3</th>\n",
       "      <td>Nuts.</td>\n",
       "      <td>YES</td>\n",
       "      <td>1</td>\n",
       "    </tr>\n",
       "    <tr>\n",
       "      <th>4</th>\n",
       "      <td>Mmm... hors doovers.</td>\n",
       "      <td>YES</td>\n",
       "      <td>1</td>\n",
       "    </tr>\n",
       "    <tr>\n",
       "      <th>5</th>\n",
       "      <td>You stink! You and your whole lousy operation ...</td>\n",
       "      <td>YES</td>\n",
       "      <td>1</td>\n",
       "    </tr>\n",
       "  </tbody>\n",
       "</table>\n",
       "</div>"
      ],
      "text/plain": [
       "                                                     Phrase IsHateSpeech  \\\n",
       "PhraseNo                                                                   \n",
       "1                 Yes, you! Baboon, baboon, baboon, baboon!          YES   \n",
       "2         Did you hear that, Marge? She called me a babo...          YES   \n",
       "3                                                     Nuts.          YES   \n",
       "4                                      Mmm... hors doovers.          YES   \n",
       "5         You stink! You and your whole lousy operation ...          YES   \n",
       "\n",
       "          Sentiment  \n",
       "PhraseNo             \n",
       "1                 1  \n",
       "2                 1  \n",
       "3                 1  \n",
       "4                 1  \n",
       "5                 1  "
      ]
     },
     "execution_count": 20,
     "metadata": {},
     "output_type": "execute_result"
    }
   ],
   "source": [
    "tweetsTrain.head()"
   ]
  },
  {
   "cell_type": "code",
   "execution_count": 21,
   "metadata": {},
   "outputs": [
    {
     "data": {
      "text/html": [
       "<div>\n",
       "<style scoped>\n",
       "    .dataframe tbody tr th:only-of-type {\n",
       "        vertical-align: middle;\n",
       "    }\n",
       "\n",
       "    .dataframe tbody tr th {\n",
       "        vertical-align: top;\n",
       "    }\n",
       "\n",
       "    .dataframe thead th {\n",
       "        text-align: right;\n",
       "    }\n",
       "</style>\n",
       "<table border=\"1\" class=\"dataframe\">\n",
       "  <thead>\n",
       "    <tr style=\"text-align: right;\">\n",
       "      <th></th>\n",
       "      <th>Phrase</th>\n",
       "      <th>Sentiment</th>\n",
       "    </tr>\n",
       "    <tr>\n",
       "      <th>Phrase No</th>\n",
       "      <th></th>\n",
       "      <th></th>\n",
       "    </tr>\n",
       "  </thead>\n",
       "  <tbody>\n",
       "    <tr>\n",
       "      <th>1</th>\n",
       "      <td>Dad, why is everyone letting old people do thi...</td>\n",
       "      <td>0</td>\n",
       "    </tr>\n",
       "    <tr>\n",
       "      <th>2</th>\n",
       "      <td>They've tried to stop them, son, but... the se...</td>\n",
       "      <td>0</td>\n",
       "    </tr>\n",
       "    <tr>\n",
       "      <th>3</th>\n",
       "      <td>They're saying something about taking over the...</td>\n",
       "      <td>0</td>\n",
       "    </tr>\n",
       "    <tr>\n",
       "      <th>4</th>\n",
       "      <td>Yes. And now seeing how early they get up, I d...</td>\n",
       "      <td>0</td>\n",
       "    </tr>\n",
       "    <tr>\n",
       "      <th>5</th>\n",
       "      <td>No. Come on, Dad. Can't you guys do it?\\n</td>\n",
       "      <td>1</td>\n",
       "    </tr>\n",
       "  </tbody>\n",
       "</table>\n",
       "</div>"
      ],
      "text/plain": [
       "                                                      Phrase  Sentiment\n",
       "Phrase No                                                              \n",
       "1          Dad, why is everyone letting old people do thi...          0\n",
       "2          They've tried to stop them, son, but... the se...          0\n",
       "3          They're saying something about taking over the...          0\n",
       "4          Yes. And now seeing how early they get up, I d...          0\n",
       "5                  No. Come on, Dad. Can't you guys do it?\\n          1"
      ]
     },
     "execution_count": 21,
     "metadata": {},
     "output_type": "execute_result"
    }
   ],
   "source": [
    "tweetsTest.head()"
   ]
  },
  {
   "cell_type": "code",
   "execution_count": 22,
   "metadata": {},
   "outputs": [],
   "source": [
    "def form_sentence(tweet):\n",
    "    tweet = re.sub(r'@[A-Za-z0-9]+', '', str(tweet))\n",
    "    tweet = re.sub(r\"(?:\\#+[\\w_]+[\\w\\'_\\-]*[\\w_]+)\", '', str(tweet))\n",
    "    tweet = re.sub(r'<[^>]+>', '', str(tweet))\n",
    "    tweet = re.sub(r'http[s]?://(?:[a-z]|[0-9]|[$-_@.&+]|[!*\\(\\),]|(?:%[0-9a-f][0-9a-f]))+', '', str(tweet))\n",
    "    tweet_blob = TextBlob(tweet)\n",
    "    return ' '.join(tweet_blob.words)"
   ]
  },
  {
   "cell_type": "code",
   "execution_count": 23,
   "metadata": {},
   "outputs": [],
   "source": [
    "def no_user_alpha(tweet):\n",
    "    tweet_list = [ele for ele in tweet.split() if ele != 'user']\n",
    "    clean_tokens = [t for t in tweet_list if re.match(r'[^\\W\\d]*$', t)]\n",
    "    clean_s = ' '.join(clean_tokens)\n",
    "    clean_mess = [word for word in clean_s.split() if word.lower() not in stopwords.words('english')]\n",
    "    return clean_mess"
   ]
  },
  {
   "cell_type": "code",
   "execution_count": 24,
   "metadata": {},
   "outputs": [],
   "source": [
    "def normalization(tweet_list):\n",
    "    lem = WordNetLemmatizer()\n",
    "    normalized_tweet = []\n",
    "    for word in tweet_list:\n",
    "        normalized_text = lem.lemmatize(word, 'v')\n",
    "        normalized_tweet.append(normalized_text)\n",
    "    return normalized_tweet"
   ]
  },
  {
   "cell_type": "code",
   "execution_count": 25,
   "metadata": {},
   "outputs": [],
   "source": [
    "Final_words = []\n",
    "for data in tweetsTrain['Phrase']:\n",
    "    filtered = normalization(no_user_alpha(form_sentence(data)))\n",
    "    word_Final = ' '.join(filtered)\n",
    "    Final_words.append(word_Final)\n"
   ]
  },
  {
   "cell_type": "code",
   "execution_count": 26,
   "metadata": {},
   "outputs": [],
   "source": [
    "final_bodyTrain = pd.DataFrame(Final_words, columns=['Phrase'])\n"
   ]
  },
  {
   "cell_type": "code",
   "execution_count": 27,
   "metadata": {},
   "outputs": [],
   "source": [
    "Final_wordss = []\n",
    "for data in tweetsTest['Phrase']:\n",
    "    filtered = normalization(no_user_alpha(form_sentence(data)))\n",
    "    word_Final = ' '.join(filtered)\n",
    "    Final_wordss.append(word_Final)"
   ]
  },
  {
   "cell_type": "code",
   "execution_count": 28,
   "metadata": {},
   "outputs": [],
   "source": [
    "final_bodyTest = pd.DataFrame(Final_wordss, columns=['Phrase'])"
   ]
  },
  {
   "cell_type": "code",
   "execution_count": 29,
   "metadata": {},
   "outputs": [
    {
     "data": {
      "text/plain": [
       "TfidfVectorizer()"
      ]
     },
     "execution_count": 29,
     "metadata": {},
     "output_type": "execute_result"
    }
   ],
   "source": [
    "tf = TfidfVectorizer()\n",
    "tf.fit(final_bodyTrain['Phrase'])"
   ]
  },
  {
   "cell_type": "code",
   "execution_count": 30,
   "metadata": {},
   "outputs": [],
   "source": [
    "Train_X_Tfidf = tf.transform(final_bodyTrain['Phrase'])\n",
    "Test_X_Tfidf = tf.transform(final_bodyTest['Phrase'])"
   ]
  },
  {
   "cell_type": "code",
   "execution_count": 31,
   "metadata": {},
   "outputs": [],
   "source": [
    "model = svm.SVC(kernel='linear')\n",
    "model.fit(Train_X_Tfidf, tweetsTrain['Sentiment'])\n",
    "predictions_SVM = model.predict(Test_X_Tfidf)\n"
   ]
  },
  {
   "cell_type": "code",
   "execution_count": 32,
   "metadata": {},
   "outputs": [],
   "source": [
    "f1 = f1_score(predictions_SVM, tweetsTest['Sentiment'])\n",
    "recall = recall_score(predictions_SVM, tweetsTest['Sentiment'])\n",
    "precision = precision_score(predictions_SVM, tweetsTest['Sentiment'])\n",
    "mse = mean_squared_error(predictions_SVM, tweetsTest['Sentiment'])\n",
    "mae = mean_absolute_error(predictions_SVM, tweetsTest['Sentiment'])\n",
    "auc = roc_auc_score(predictions_SVM, tweetsTest['Sentiment'])"
   ]
  },
  {
   "cell_type": "code",
   "execution_count": 33,
   "metadata": {},
   "outputs": [
    {
     "name": "stdout",
     "output_type": "stream",
     "text": [
      "Accuracy:  85.0\n",
      "f1: 0.15238095238095237\n",
      "recall: 0.25\n",
      "precision: 0.1095890410958904\n",
      "mse: 0.15\n",
      "mae: 0.15\n",
      "auc: 0.5671021377672208\n"
     ]
    },
    {
     "data": {
      "image/png": "[encoded data removed]",
      "text/plain": [
       "<Figure size 432x288 with 1 Axes>"
      ]
     },
     "metadata": {
      "needs_background": "light"
     },
     "output_type": "display_data"
    }
   ],
   "source": [
    "def plot_roc_curve(fpr, tpr):\n",
    "    plt.plot(fpr, tpr, color='orange', label='ROC')\n",
    "    plt.plot([0, 1], [0, 1], color='darkblue', linestyle='--')\n",
    "    plt.xlabel('False Positive Rate')\n",
    "    plt.ylabel('True Positive Rate')\n",
    "    plt.legend()\n",
    "    plt.show()\n",
    "\n",
    "print(\"Accuracy: \", accuracy_score(predictions_SVM, tweetsTest['Sentiment']) * 100)\n",
    "print('f1: ' + str(f1))\n",
    "print('recall: ' + str(recall))\n",
    "print('precision: ' + str(precision))\n",
    "print('mse: ' + str(mse))\n",
    "print('mae: ' + str(mae))\n",
    "print('auc: ' + str(auc))\n",
    "\n",
    "fpr, tpr, thresholds = roc_curve(predictions_SVM, tweetsTest['Sentiment'])\n",
    "plot_roc_curve(fpr, tpr)"
   ]
  },
  {
   "cell_type": "code",
   "execution_count": 34,
   "metadata": {},
   "outputs": [
    {
     "name": "stdout",
     "output_type": "stream",
     "text": [
      "********* Naive bayes *********\n",
      "Naive Bayes Accuracy Score ->  82.97752808988764\n"
     ]
    }
   ],
   "source": [
    "# STEP -7: Use the ML Algorithms to Predict the outcome\n",
    "print(\"********* Naive bayes *********\")\n",
    "# fit the training dataset on the NB classifier\n",
    "Naive = naive_bayes.MultinomialNB()\n",
    "Naive.fit(Train_X_Tfidf, tweetsTrain['Sentiment'])\n",
    "# predict the labels on validation dataset\n",
    "predictions_NB = Naive.predict(Test_X_Tfidf)\n",
    "# Use accuracy_score function to get the accuracy\n",
    "print(\"Naive Bayes Accuracy Score -> \", accuracy_score(predictions_NB, tweetsTest['Sentiment']) * 100)\n"
   ]
  },
  {
   "cell_type": "code",
   "execution_count": 35,
   "metadata": {},
   "outputs": [],
   "source": [
    "import time\n",
    "from sklearn.metrics import accuracy_score,precision_score, recall_score,f1_score,roc_auc_score,roc_curve\n",
    "from tensorflow.keras.preprocessing.text import Tokenizer\n",
    "from tensorflow.keras.preprocessing.sequence import pad_sequences\n",
    "from tensorflow.keras.layers import Dense, Embedding, Bidirectional, LSTM, Dropout\n",
    "from tensorflow.keras.callbacks import Callback\n",
    "from tensorflow.keras import regularizers\n",
    "from tensorflow.keras.models import Sequential\n",
    "import matplotlib.pyplot as plt\n",
    "from tqdm import tqdm"
   ]
  },
  {
   "cell_type": "code",
   "execution_count": 36,
   "metadata": {},
   "outputs": [],
   "source": [
    "# prepare tokenizer\n",
    "token = Tokenizer()\n",
    "token.fit_on_texts(final_bodyTrain['Phrase'])"
   ]
  },
  {
   "cell_type": "code",
   "execution_count": 37,
   "metadata": {},
   "outputs": [],
   "source": [
    "# integer encode the documents\n",
    "seq = token.texts_to_sequences(final_bodyTrain['Phrase'])"
   ]
  },
  {
   "cell_type": "code",
   "execution_count": 38,
   "metadata": {},
   "outputs": [],
   "source": [
    "# pad documents to a max length of words\n",
    "max_length = 100\n",
    "pad_seq = pad_sequences(seq,maxlen=max_length, padding='post')"
   ]
  },
  {
   "cell_type": "code",
   "execution_count": 39,
   "metadata": {},
   "outputs": [],
   "source": [
    "# test set\n",
    "x_test = final_bodyTest['Phrase']\n",
    "x_test = token.texts_to_sequences(x_test)\n",
    "testing_seq = pad_sequences(x_test,maxlen=max_length, padding='post')"
   ]
  },
  {
   "cell_type": "code",
   "execution_count": 40,
   "metadata": {},
   "outputs": [],
   "source": [
    "vocab_size = len(token.word_index)+1"
   ]
  },
  {
   "cell_type": "code",
   "execution_count": 41,
   "metadata": {},
   "outputs": [
    {
     "name": "stderr",
     "output_type": "stream",
     "text": [
      "400000it [00:28, 14057.81it/s]\n"
     ]
    }
   ],
   "source": [
    "# load the whole embedding into memory\n",
    "embedding_vector = {}\n",
    "f = open('C:/Users/Acer/Desktop/Text violation detection/glove.6B.100d.txt', encoding='utf-8')\n",
    "for line in tqdm(f):\n",
    "    value = line.split(' ')\n",
    "    word = value[0]\n",
    "    coef = np.array(value[1:],dtype = 'float32')\n",
    "    embedding_vector[word] = coef\n",
    "f.close()\n"
   ]
  },
  {
   "cell_type": "code",
   "execution_count": 42,
   "metadata": {},
   "outputs": [
    {
     "name": "stderr",
     "output_type": "stream",
     "text": [
      "100%|██████████| 2820/2820 [00:00<00:00, 202512.37it/s]\n"
     ]
    }
   ],
   "source": [
    "# create a weight matrix for words in training docs\n",
    "embedding_matrix = np.zeros((vocab_size, 100))\n",
    "for word,i in tqdm(token.word_index.items()):\n",
    "    embedding_value = embedding_vector.get(word)\n",
    "    if embedding_value is not None:\n",
    "        embedding_matrix[i] = embedding_value"
   ]
  },
  {
   "cell_type": "code",
   "execution_count": 43,
   "metadata": {},
   "outputs": [],
   "source": [
    "# define the keras model\n",
    "model = Sequential()\n",
    "model.add(Embedding(vocab_size, 100, weights = [embedding_matrix], input_length=max_length, trainable=False))\n",
    "model.add(Bidirectional(LSTM(100, dropout=0.5)))\n",
    "model.add(Dense(8, activation='relu',kernel_regularizer=regularizers.l2(0.01)))\n",
    "model.add(Dropout(0.5))\n",
    "model.add(Dense(1,activation = 'sigmoid'))\n"
   ]
  },
  {
   "cell_type": "code",
   "execution_count": 44,
   "metadata": {},
   "outputs": [],
   "source": [
    "# get each epoch time\n",
    "class TimeHistory(Callback):\n",
    "    def on_train_begin(self, logs={}):\n",
    "        self.times = []\n",
    "\n",
    "    def on_epoch_begin(self, epoch, logs={}):\n",
    "        self.epoch_time_start = time.time()\n",
    "\n",
    "    def on_epoch_end(self, epoch, logs={}):\n",
    "        self.times.append(time.time() - self.epoch_time_start)"
   ]
  },
  {
   "cell_type": "code",
   "execution_count": 45,
   "metadata": {},
   "outputs": [
    {
     "name": "stdout",
     "output_type": "stream",
     "text": [
      "Train on 2000 samples, validate on 1780 samples\n",
      "Epoch 1/2\n",
      "2000/2000 [==============================] - 22s 11ms/sample - loss: 0.8450 - accuracy: 0.5770 - mse: 0.2476 - mae: 0.4953 - val_loss: 0.7892 - val_accuracy: 0.8702 - val_mse: 0.2208 - val_mae: 0.4688\n",
      "Epoch 2/2\n",
      "2000/2000 [==============================] - 13s 7ms/sample - loss: 0.8226 - accuracy: 0.6360 - mse: 0.2385 - mae: 0.4840 - val_loss: 0.7423 - val_accuracy: 0.8753 - val_mse: 0.1996 - val_mae: 0.4433\n",
      "1780/1780 [==============================] - 3s 2ms/sample - loss: 0.7423 - accuracy: 0.8753 - mse: 0.1996 - mae: 0.4433\n"
     ]
    }
   ],
   "source": [
    "# compile the keras model\n",
    "model.compile(optimizer='sgd',loss='binary_crossentropy',metrics = ['accuracy','mse','mae'])\n",
    "\n",
    "time_callback = TimeHistory()\n",
    "history = model.fit(pad_seq, tweetsTrain['Sentiment'], epochs=2, batch_size=32, validation_data= (testing_seq, tweetsTest['Sentiment']) ,callbacks=[time_callback])\n",
    "yhat_probs = model.predict(testing_seq, verbose=0)\n",
    "yhat_classes = model.predict_classes(testing_seq, verbose=0)\n",
    "yhat_probs = yhat_probs[:, 0]\n",
    "yhat_classes = yhat_classes[:, 0]\n",
    "\n",
    "loss, accuracy, mse, mae = model.evaluate(testing_seq, tweetsTest['Sentiment'])\n",
    "f1 = f1_score(tweetsTest['Sentiment'], yhat_classes)\n",
    "recall = recall_score(tweetsTest['Sentiment'], yhat_classes)\n",
    "precision = precision_score(tweetsTest['Sentiment'], yhat_classes)\n",
    "auc = roc_auc_score(tweetsTest['Sentiment'], yhat_probs)"
   ]
  },
  {
   "cell_type": "code",
   "execution_count": 46,
   "metadata": {},
   "outputs": [
    {
     "name": "stdout",
     "output_type": "stream",
     "text": [
      "Model: \"sequential\"\n",
      "_________________________________________________________________\n",
      "Layer (type)                 Output Shape              Param #   \n",
      "=================================================================\n",
      "embedding (Embedding)        (None, 100, 100)          282100    \n",
      "_________________________________________________________________\n",
      "bidirectional (Bidirectional (None, 200)               160800    \n",
      "_________________________________________________________________\n",
      "dense (Dense)                (None, 8)                 1608      \n",
      "_________________________________________________________________\n",
      "dropout (Dropout)            (None, 8)                 0         \n",
      "_________________________________________________________________\n",
      "dense_1 (Dense)              (None, 1)                 9         \n",
      "=================================================================\n",
      "Total params: 444,517\n",
      "Trainable params: 162,417\n",
      "Non-trainable params: 282,100\n",
      "_________________________________________________________________\n",
      "None\n"
     ]
    }
   ],
   "source": [
    "print(model.summary())\n",
    "# save model and architecture to single file\n",
    "# model.save(\"binary_LSTM.h5\")\n"
   ]
  },
  {
   "cell_type": "code",
   "execution_count": 47,
   "metadata": {},
   "outputs": [],
   "source": [
    "count = 0\n",
    "for val in time_callback.times:\n",
    "    count +=val\n",
    "\n",
    "def plot_roc_curve(fpr, tpr):\n",
    "    plt.plot(fpr, tpr, color='orange', label='ROC')\n",
    "    plt.plot([0, 1], [0, 1], color='darkblue', linestyle='--')\n",
    "    plt.xlabel('False Positive Rate')\n",
    "    plt.ylabel('True Positive Rate')\n",
    "    plt.title('Receiver Operating Characteristic (ROC) Curve')\n",
    "    plt.legend()\n",
    "    plt.show()"
   ]
  },
  {
   "cell_type": "code",
   "execution_count": 48,
   "metadata": {},
   "outputs": [
    {
     "name": "stdout",
     "output_type": "stream",
     "text": [
      "Accuracy: 87.52809166908264\n",
      "loss: 0.7422887135087775\n",
      "mse: 0.19959031\n",
      "mae: 0.44332814\n",
      "f1: 0.0\n",
      "recall: 0.0\n",
      "precision: 0.0\n",
      "auc: 0.4858465039680102\n",
      "Total train time: 35.145029067993164\n"
     ]
    },
    {
     "data": {
      "image/png": "[encoded data removed]",
      "text/plain": [
       "<Figure size 432x288 with 1 Axes>"
      ]
     },
     "metadata": {
      "needs_background": "light"
     },
     "output_type": "display_data"
    },
    {
     "data": {
      "image/png": "[encoded data removed]",
      "text/plain": [
       "<Figure size 432x288 with 1 Axes>"
      ]
     },
     "metadata": {
      "needs_background": "light"
     },
     "output_type": "display_data"
    },
    {
     "data": {
      "image/png": "[encoded data removed]",
      "text/plain": [
       "<Figure size 432x288 with 1 Axes>"
      ]
     },
     "metadata": {
      "needs_background": "light"
     },
     "output_type": "display_data"
    },
    {
     "data": {
      "image/png": "[encoded data removed]",
      "text/plain": [
       "<Figure size 432x288 with 1 Axes>"
      ]
     },
     "metadata": {
      "needs_background": "light"
     },
     "output_type": "display_data"
    },
    {
     "data": {
      "image/png": "[encoded data removed]",
      "text/plain": [
       "<Figure size 432x288 with 1 Axes>"
      ]
     },
     "metadata": {
      "needs_background": "light"
     },
     "output_type": "display_data"
    },
    {
     "data": {
      "image/png": "[encoded data removed]",
      "text/plain": [
       "<Figure size 432x288 with 1 Axes>"
      ]
     },
     "metadata": {
      "needs_background": "light"
     },
     "output_type": "display_data"
    },
    {
     "name": "stdout",
     "output_type": "stream",
     "text": [
      "[0.8702247, 0.8752809]\n",
      "[0.7891604809278853, 0.7422887135087775]\n",
      "[0.22080079, 0.19959031]\n",
      "[0.46875355, 0.44332814]\n"
     ]
    }
   ],
   "source": [
    "print('Accuracy: ' + str(accuracy*100))\n",
    "print('loss: ' + str(loss))\n",
    "print('mse: ' + str(mse))\n",
    "print('mae: ' + str(mae))\n",
    "print('f1: ' + str(f1))\n",
    "print('recall: ' + str(recall))\n",
    "print('precision: ' + str(precision))\n",
    "print('auc: ' + str(auc))\n",
    "print('Total train time: '+ str(count))\n",
    "\n",
    "fpr, tpr, thresholds = roc_curve(tweetsTest['Sentiment'], yhat_probs)\n",
    "plot_roc_curve(fpr, tpr)\n",
    "          \n",
    "# summarize history for accuracy\n",
    "plt.plot(history.history['accuracy'])\n",
    "plt.plot(history.history['val_accuracy'])\n",
    "plt.title('model accuracy')\n",
    "plt.ylabel('accuracy')\n",
    "plt.xlabel('epoch')\n",
    "plt.legend(['train', 'test'])\n",
    "plt.show()\n",
    "\n",
    "# summarize history for loss\n",
    "plt.plot(history.history['loss'])\n",
    "plt.plot(history.history['val_loss'])\n",
    "plt.title('model loss')\n",
    "plt.ylabel('loss')\n",
    "plt.xlabel('epoch')\n",
    "plt.legend(['train', 'test'])\n",
    "plt.show()\n",
    "\n",
    "# summarize history for mse\n",
    "plt.plot(history.history['mse'])\n",
    "plt.plot(history.history['val_mse'])\n",
    "plt.title('model mse')\n",
    "plt.ylabel('mean_squared_error')\n",
    "plt.xlabel('epoch')\n",
    "plt.legend(['train', 'test'])\n",
    "plt.show()\n",
    "\n",
    "# summarize history for mae\n",
    "plt.plot(history.history['mae'])\n",
    "plt.plot(history.history['val_mae'])\n",
    "plt.title('model mae')\n",
    "plt.ylabel('mean_absolute_error')\n",
    "plt.xlabel('epoch')\n",
    "plt.legend(['train', 'test'])\n",
    "plt.show()\n",
    "\n",
    "# summarize history for time\n",
    "plt.plot(time_callback.times)\n",
    "plt.title('model time')\n",
    "plt.ylabel('time in seconds')\n",
    "plt.xlabel('epoch')\n",
    "plt.show()\n",
    "\n",
    "print(history.history['val_accuracy'])\n",
    "print(history.history['val_loss'])\n",
    "print(history.history['val_mse'])\n",
    "print(history.history['val_mae'])"
   ]
  },
  {
   "cell_type": "code",
   "execution_count": null,
   "metadata": {},
   "outputs": [],
   "source": []
  }
 ],
 "metadata": {
  "kernelspec": {
   "display_name": "Python 3",
   "language": "python",
   "name": "python3"
  },
  "language_info": {
   "codemirror_mode": {
    "name": "ipython",
    "version": 3
   },
   "file_extension": ".py",
   "mimetype": "text/x-python",
   "name": "python",
   "nbconvert_exporter": "python",
   "pygments_lexer": "ipython3",
   "version": "3.7.7"
  }
 },
 "nbformat": 4,
 "nbformat_minor": 4
}
